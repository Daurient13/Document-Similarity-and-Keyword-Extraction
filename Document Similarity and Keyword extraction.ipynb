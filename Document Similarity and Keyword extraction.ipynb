{
 "cells": [
  {
   "cell_type": "markdown",
   "id": "46f22945",
   "metadata": {},
   "source": [
    "# Import Package"
   ]
  },
  {
   "cell_type": "code",
   "execution_count": 2,
   "id": "beb1c7c7",
   "metadata": {},
   "outputs": [],
   "source": [
    "# import packages\n",
    "import pandas as pd\n",
    "from nltk.tokenize import word_tokenize\n",
    "from nltk.corpus import stopwords\n",
    "from string import punctuation\n",
    "\n",
    "sw_indo = stopwords.words(\"indonesian\") + list(punctuation)"
   ]
  },
  {
   "cell_type": "markdown",
   "id": "5e99bfc5",
   "metadata": {},
   "source": [
    "# Import Data"
   ]
  },
  {
   "cell_type": "code",
   "execution_count": 3,
   "id": "53f59644",
   "metadata": {},
   "outputs": [
    {
     "data": {
      "text/html": [
       "<div>\n",
       "<style scoped>\n",
       "    .dataframe tbody tr th:only-of-type {\n",
       "        vertical-align: middle;\n",
       "    }\n",
       "\n",
       "    .dataframe tbody tr th {\n",
       "        vertical-align: top;\n",
       "    }\n",
       "\n",
       "    .dataframe thead th {\n",
       "        text-align: right;\n",
       "    }\n",
       "</style>\n",
       "<table border=\"1\" class=\"dataframe\">\n",
       "  <thead>\n",
       "    <tr style=\"text-align: right;\">\n",
       "      <th></th>\n",
       "      <th>teks</th>\n",
       "    </tr>\n",
       "  </thead>\n",
       "  <tbody>\n",
       "    <tr>\n",
       "      <th>0</th>\n",
       "      <td>Ginandjar Tetap Ditahan. Jaksa Agung Dilaporka...</td>\n",
       "    </tr>\n",
       "    <tr>\n",
       "      <th>1</th>\n",
       "      <td>Jakarta Dikangkangi Para Preman\\nKALAU tak pun...</td>\n",
       "    </tr>\n",
       "    <tr>\n",
       "      <th>2</th>\n",
       "      <td>Penyimpangan di Setpres Seolah Terjadi Sekaran...</td>\n",
       "    </tr>\n",
       "    <tr>\n",
       "      <th>3</th>\n",
       "      <td>Dibayarkan, Rapel Kenaikan Gaji Pegawai Pos\\nK...</td>\n",
       "    </tr>\n",
       "    <tr>\n",
       "      <th>4</th>\n",
       "      <td>Stop Kekerasan, Elite agar Duduk Bersama\\nSeju...</td>\n",
       "    </tr>\n",
       "  </tbody>\n",
       "</table>\n",
       "</div>"
      ],
      "text/plain": [
       "                                                teks\n",
       "0  Ginandjar Tetap Ditahan. Jaksa Agung Dilaporka...\n",
       "1  Jakarta Dikangkangi Para Preman\\nKALAU tak pun...\n",
       "2  Penyimpangan di Setpres Seolah Terjadi Sekaran...\n",
       "3  Dibayarkan, Rapel Kenaikan Gaji Pegawai Pos\\nK...\n",
       "4  Stop Kekerasan, Elite agar Duduk Bersama\\nSeju..."
      ]
     },
     "execution_count": 3,
     "metadata": {},
     "output_type": "execute_result"
    }
   ],
   "source": [
    "# import data\n",
    "df = pd.read_csv('data/kompas.csv')\n",
    "df.head()"
   ]
  },
  {
   "cell_type": "code",
   "execution_count": 7,
   "id": "45db665c",
   "metadata": {},
   "outputs": [
    {
     "data": {
      "text/plain": [
       "(2008, 1)"
      ]
     },
     "execution_count": 7,
     "metadata": {},
     "output_type": "execute_result"
    }
   ],
   "source": [
    "# data shape\n",
    "df.shape"
   ]
  },
  {
   "cell_type": "markdown",
   "id": "a447e348",
   "metadata": {},
   "source": [
    "# Extract TFIDF"
   ]
  },
  {
   "cell_type": "code",
   "execution_count": 3,
   "id": "1afae9ad",
   "metadata": {},
   "outputs": [],
   "source": [
    "# import package\n",
    "from sklearn.feature_extraction.text import TfidfVectorizer"
   ]
  },
  {
   "cell_type": "code",
   "execution_count": 4,
   "id": "ae5ec8a4",
   "metadata": {},
   "outputs": [
    {
     "name": "stderr",
     "output_type": "stream",
     "text": [
      "C:\\Users\\HP\\miniconda3\\envs\\jcop_ud\\lib\\site-packages\\sklearn\\feature_extraction\\text.py:385: UserWarning: Your stop_words may be inconsistent with your preprocessing. Tokenizing the stop words generated tokens ['``'] not in stop_words.\n",
      "  'stop_words.' % sorted(inconsistent))\n"
     ]
    }
   ],
   "source": [
    "tfidf = TfidfVectorizer(ngram_range=(1, 2), tokenizer=word_tokenize, stop_words=sw_indo)\n",
    "tfidf_matrix = tfidf.fit_transform(df.teks)"
   ]
  },
  {
   "cell_type": "markdown",
   "id": "167b378a",
   "metadata": {},
   "source": [
    "# TFIDF Similarity -> Document Similarity"
   ]
  },
  {
   "cell_type": "code",
   "execution_count": 5,
   "id": "f7c5c919",
   "metadata": {},
   "outputs": [],
   "source": [
    "# import package\n",
    "from sklearn.metrics.pairwise import cosine_similarity"
   ]
  },
  {
   "cell_type": "code",
   "execution_count": 6,
   "id": "5dce8970",
   "metadata": {},
   "outputs": [
    {
     "data": {
      "text/plain": [
       "array([[1.        , 0.00858328, 0.01060043, ..., 0.00856287, 0.00677808,\n",
       "        0.01513341]])"
      ]
     },
     "execution_count": 6,
     "metadata": {},
     "output_type": "execute_result"
    }
   ],
   "source": [
    "sim = cosine_similarity(tfidf_matrix[0], tfidf_matrix)\n",
    "sim"
   ]
  },
  {
   "cell_type": "markdown",
   "id": "a950c733",
   "metadata": {},
   "source": [
    "# Sort"
   ]
  },
  {
   "cell_type": "code",
   "execution_count": 7,
   "id": "61a2665c",
   "metadata": {},
   "outputs": [
    {
     "data": {
      "text/plain": [
       "array([[ 932, 1131, 1593, ...,  215,  144,    0]], dtype=int64)"
      ]
     },
     "execution_count": 7,
     "metadata": {},
     "output_type": "execute_result"
    }
   ],
   "source": [
    "sim.argsort()"
   ]
  },
  {
   "cell_type": "code",
   "execution_count": 8,
   "id": "617259e5",
   "metadata": {},
   "outputs": [
    {
     "data": {
      "text/plain": [
       "'Ginandjar Tetap Ditahan. Jaksa Agung Dilaporkan ke Polri\\nKejaksaan Agung memutuskan untuk tetap menahan tersangka kasus korupsi, Ginandjar Kartasasmita, sampai batas waktu yang ditentukan KUHAP. Sedan'"
      ]
     },
     "execution_count": 8,
     "metadata": {},
     "output_type": "execute_result"
    }
   ],
   "source": [
    "df.teks[0][:200]   #similar"
   ]
  },
  {
   "cell_type": "code",
   "execution_count": 9,
   "id": "9c3c3a4a",
   "metadata": {},
   "outputs": [
    {
     "data": {
      "text/plain": [
       "'Kejaksaan Agung Terbitkan Surat Penahanan Baru\\nKejaksaan Agung (Kejagung) akhirnya menerbitkan surat perintah penahanan yang baru terhadap mantan Menteri Pertambangan dan Energi Ginandjar Kartasasmita'"
      ]
     },
     "execution_count": 9,
     "metadata": {},
     "output_type": "execute_result"
    }
   ],
   "source": [
    "df.teks[144][:200]   #similar"
   ]
  },
  {
   "cell_type": "code",
   "execution_count": 10,
   "id": "3008a964",
   "metadata": {},
   "outputs": [
    {
     "data": {
      "text/plain": [
       "'Kuasa Hukum Ginandjar Bertahan di Rutan\\nSejumlah kuasa hukum Ginandjar Kartasasmita hingga hari Selasa (17/4) pukul 22.00 masih bertahan di ruang tahanan (rutan) Kejaksaan Agung (Kejagung). Selasa pag'"
      ]
     },
     "execution_count": 10,
     "metadata": {},
     "output_type": "execute_result"
    }
   ],
   "source": [
    "df.teks[215][:200]   #similar"
   ]
  },
  {
   "cell_type": "code",
   "execution_count": 11,
   "id": "1ec15a50",
   "metadata": {},
   "outputs": [
    {
     "data": {
      "text/plain": [
       "'Pusat Pengolahan Ikan Asin Lhokseumawe Terbakar\\nPusat pengolahan ikan asin di kawasan Pasar Ikan Lhokseumawe (Aceh) terbakar bersama berton-ton stok ikan asin Sabtu (13/1) siang. Sedikitnya 25 gudang '"
      ]
     },
     "execution_count": 11,
     "metadata": {},
     "output_type": "execute_result"
    }
   ],
   "source": [
    "df.teks[932][:200]   # not similar"
   ]
  },
  {
   "cell_type": "markdown",
   "id": "d4875200",
   "metadata": {},
   "source": [
    "# Keyword Extraction"
   ]
  },
  {
   "cell_type": "code",
   "execution_count": 12,
   "id": "75d95ae5",
   "metadata": {},
   "outputs": [
    {
     "data": {
      "text/plain": [
       "['zuniga memilih',\n",
       " 'zunnatul',\n",
       " 'zunnatul mafruhah',\n",
       " 'zurich',\n",
       " 'zurich northholt',\n",
       " 'zw',\n",
       " 'zw suparman',\n",
       " 'zw tim',\n",
       " 'zx',\n",
       " 'zx diserbu']"
      ]
     },
     "execution_count": 12,
     "metadata": {},
     "output_type": "execute_result"
    }
   ],
   "source": [
    "vocab = tfidf.get_feature_names()\n",
    "vocab[-10:]"
   ]
  },
  {
   "cell_type": "code",
   "execution_count": 13,
   "id": "bce616f6",
   "metadata": {},
   "outputs": [
    {
     "data": {
      "text/plain": [
       "array([[0.02115058, 0.        , 0.        , ..., 0.        , 0.        ,\n",
       "        0.        ]])"
      ]
     },
     "execution_count": 13,
     "metadata": {},
     "output_type": "execute_result"
    }
   ],
   "source": [
    "tfidf_matrix[0].toarray()"
   ]
  },
  {
   "cell_type": "code",
   "execution_count": 14,
   "id": "5ece53ed",
   "metadata": {},
   "outputs": [
    {
     "data": {
      "text/plain": [
       "array([274201, 365453, 365452, ..., 386361, 436633, 169209], dtype=int64)"
      ]
     },
     "execution_count": 14,
     "metadata": {},
     "output_type": "execute_result"
    }
   ],
   "source": [
    "sorted_tfidf = tfidf_matrix[0].toarray()[0].argsort()\n",
    "sorted_tfidf"
   ]
  },
  {
   "cell_type": "code",
   "execution_count": 15,
   "id": "5d649580",
   "metadata": {},
   "outputs": [
    {
     "data": {
      "text/plain": [
       "'ginandjar'"
      ]
     },
     "execution_count": 15,
     "metadata": {},
     "output_type": "execute_result"
    }
   ],
   "source": [
    "vocab[169209]"
   ]
  },
  {
   "cell_type": "code",
   "execution_count": 16,
   "id": "b6e1aa8b",
   "metadata": {},
   "outputs": [
    {
     "data": {
      "text/plain": [
       "'putusan'"
      ]
     },
     "execution_count": 16,
     "metadata": {},
     "output_type": "execute_result"
    }
   ],
   "source": [
    "vocab[436633]"
   ]
  },
  {
   "cell_type": "code",
   "execution_count": 17,
   "id": "ed6a4226",
   "metadata": {},
   "outputs": [
    {
     "data": {
      "text/plain": [
       "['ginandjar',\n",
       " 'putusan',\n",
       " 'penahanan',\n",
       " 'hukum ginandjar',\n",
       " 'kuasa hukum',\n",
       " 'rusman',\n",
       " 'kejaksaan',\n",
       " 'hakim rusman',\n",
       " 'kuasa',\n",
       " '9 april']"
      ]
     },
     "execution_count": 17,
     "metadata": {},
     "output_type": "execute_result"
    }
   ],
   "source": [
    "[vocab[idx]for idx in reversed(sorted_tfidf[-10:])]"
   ]
  },
  {
   "cell_type": "markdown",
   "id": "7ea9fa3b",
   "metadata": {},
   "source": [
    "# Wrap into Function"
   ]
  },
  {
   "cell_type": "code",
   "execution_count": 20,
   "id": "48730e56",
   "metadata": {},
   "outputs": [],
   "source": [
    "def extract_keywords_tfidf(doc, tfidf, topk=10):\n",
    "    matrix = tfidf.transform([doc])\n",
    "    vocab = tfidf.get_feature_names()\n",
    "    \n",
    "    sorted_tfidf = matrix[0].toarray()[0].argsort()\n",
    "    return [vocab[idx] for idx in reversed(sorted_tfidf[-10:])]"
   ]
  },
  {
   "cell_type": "markdown",
   "id": "1dab2f5f",
   "metadata": {},
   "source": [
    "# Other examples of text data"
   ]
  },
  {
   "cell_type": "code",
   "execution_count": 21,
   "id": "69cf9af9",
   "metadata": {},
   "outputs": [],
   "source": [
    "teks = \"\"\"\n",
    "Walikota Lviv Andriy Sadovyi mengatakan serangan rudal Rusia di kota itu telah menewaskan sedikitnya tujuh orang. \n",
    "Dia merevisi jumlah korban tewas yang sebelymnya disebutkan oleh pejabat setempat.\n",
    "Menurut Sadovyi selain korban tewas, sebanyak 12 orang lainnya terluka dalam serangan tersebut. \n",
    "Sebuah hotel tempat warga Ukraina yang melarikan diri berlindung, teramsuk di antara bangunan yang rusak parah akibat serangan Rusia.\n",
    "“Mimpi buruk perang telah mengejar kita bahkan di Lviv,” ujar Lyudmila Turchak, 47, yang melarikan diri dengan dua anak dari Kharkiv.\n",
    "Rusia pada Senin menyatakan telah meluncurkan serangan massal semalam dengan target militer Ukraina. \n",
    "Kementerian pertahanan Rusia mengatakan dalam sebuah pernyataan bahwa rudal yang diluncurkan dari udara telah menghancurkan \n",
    "16 fasilitas militer Ukraina pada Minggu malam termasuk lima pos komando, \n",
    "satu depot bahan bakar dan tiga gudang amunisi, serta baju besi dan pasukan Ukraina.\n",
    "\n",
    "\n",
    "Serangan terjadi di wilayah Kharkiv, Zaporizhzhia, Donetsk dan Dnipropetrovsk dan di pelabuhan Mykolayiv. \n",
    "Angkatan Udara Rusia telah melancarkan serangan terhadap 108 daerah di Ukraina.\n",
    "\"\"\""
   ]
  },
  {
   "cell_type": "code",
   "execution_count": 22,
   "id": "34ec08ad",
   "metadata": {},
   "outputs": [
    {
     "data": {
      "text/plain": [
       "['ukraina',\n",
       " 'rusia',\n",
       " 'serangan',\n",
       " 'rudal',\n",
       " 'korban tewas',\n",
       " 'melarikan',\n",
       " 'warga ukraina',\n",
       " 'walikota',\n",
       " 'serangan rusia',\n",
       " 'bangunan rusak']"
      ]
     },
     "execution_count": 22,
     "metadata": {},
     "output_type": "execute_result"
    }
   ],
   "source": [
    "extract_keywords_tfidf(teks, tfidf)"
   ]
  },
  {
   "cell_type": "code",
   "execution_count": null,
   "id": "962664cd",
   "metadata": {},
   "outputs": [],
   "source": []
  }
 ],
 "metadata": {
  "kernelspec": {
   "display_name": "Python [conda env:jcop_ud]",
   "language": "python",
   "name": "conda-env-jcop_ud-py"
  },
  "language_info": {
   "codemirror_mode": {
    "name": "ipython",
    "version": 3
   },
   "file_extension": ".py",
   "mimetype": "text/x-python",
   "name": "python",
   "nbconvert_exporter": "python",
   "pygments_lexer": "ipython3",
   "version": "3.7.6"
  }
 },
 "nbformat": 4,
 "nbformat_minor": 5
}
